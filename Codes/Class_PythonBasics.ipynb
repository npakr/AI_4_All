{
  "nbformat": 4,
  "nbformat_minor": 0,
  "metadata": {
    "colab": {
      "provenance": [],
      "private_outputs": true
    },
    "kernelspec": {
      "name": "python3",
      "display_name": "Python 3"
    }
  },
  "cells": [
    {
      "cell_type": "markdown",
      "metadata": {
        "id": "TiM6gYg0nhkY"
      },
      "source": [
        "<font color=\"#de3023\"><h1><b>REMINDER: MAKE A COPY OF THIS NOTEBOOK, DO NOT EDIT</b></h1></font>"
      ]
    },
    {
      "cell_type": "markdown",
      "metadata": {
        "id": "wB-sveMud5UZ"
      },
      "source": [
        "<font color=DarkOrange><h1><b> **Welcome to Inspirit AI**</b></h1></font>\n",
        "\n",
        "**Overview and Goals**:\n",
        "This notebook teaches the foundations of computer science and basic programming in Python to sufficiently prepare students for the Inspirit AI program.\n",
        "\n",
        "**Notebook Structure**:\n",
        "Each section will be broken down into lessons, which consist of example programs to explore and written programming exercises.  There are also explanatory videos available for each section, which you should watch at home, outside of class. If you already have experience with Python before, you may choose to skip the videos.\n",
        "\n",
        "**Introductory Video:** Please watch [this](https://youtu.be/COOq_r_wI3c) introductory video in preparation for our first class together **(to watch at home, not in class)**."
      ]
    },
    {
      "cell_type": "markdown",
      "metadata": {
        "id": "FjhnZxCOH6vV"
      },
      "source": [
        "# **Printing**\n",
        "\n",
        "You can watch [this](https://youtu.be/qfB6vPaUUnw) video as a reference **(to watch at home, not in class)**."
      ]
    },
    {
      "cell_type": "markdown",
      "metadata": {
        "id": "uWPdXFqpeOOx"
      },
      "source": [
        "## Example: Hello World!\n",
        "\n",
        "This is an example Python program that displays the text “Hello, world!” followed by a description of how many pets someone has.\n"
      ]
    },
    {
      "cell_type": "code",
      "metadata": {
        "id": "4M6lnMOYd8ER"
      },
      "source": [
        "# Printing text\n",
        "print(\"Hello World!\")\n",
        "\n",
        "# Printing how many pets you have\n",
        "print(\"I have 2 dogs.\")\n",
        "print(\"I have two cats.\")"
      ],
      "execution_count": null,
      "outputs": []
    },
    {
      "cell_type": "markdown",
      "metadata": {
        "id": "kKgxS664qoBE"
      },
      "source": [
        "When you use  `print`,  each new thing that you want to display will be shown on a new line. If you want to display text, you need to write the word `print`, followed by the text in quotes between parentheses: `(\"insert your text here\")`.\n",
        "\n",
        "\n",
        "Do you notice those lines with `#` signs in front? Those are called **comments**. Comments are really useful to tell people what's happening in your code, as well as a reminder for yourself when you review what you've written. The comments aren't actual code, so you don't need to worry about Python reading them when your programs are running. In other words, they don't get printed out."
      ]
    },
    {
      "cell_type": "markdown",
      "metadata": {
        "id": "7aS9vB1ieicC"
      },
      "source": [
        "## Try it out: Introduce yourself!\n",
        "\n",
        "Write a program that prints your name and something about yourself. Here’s an example of what your program could display:\n",
        " > `My name is Arya.`\n",
        "\n",
        " > `I like writing Python programs.`\n",
        "\n",
        " Please comment each line of your code informatively."
      ]
    },
    {
      "cell_type": "code",
      "metadata": {
        "id": "tInVAw0-eoxW"
      },
      "source": [
        "# Write your code here.\n",
        "name_string = \"My name is Arya.\"\n",
        "print(name_string)\n",
        "print(\"I like writing Python Programs.\")"
      ],
      "execution_count": null,
      "outputs": []
    },
    {
      "cell_type": "markdown",
      "metadata": {
        "id": "j7YqvdnSEi07"
      },
      "source": [
        "# **Variables**\n",
        "\n"
      ]
    },
    {
      "cell_type": "markdown",
      "metadata": {
        "id": "TfyKP68xvAEE"
      },
      "source": [
        "You can watch [this](https://youtu.be/Jto6IBy9z9k) video introducing you to **variables** **(to watch at home, not in class)**.\n",
        "\n",
        "Often, when we're programming, we need to store some pieces of information. A good way to do this is by using **variables**. Variables are like containers: you can put things into them and extract their contents later.\n",
        "\n",
        "#### **To declare a variable, there are three steps:**\n",
        "\n",
        "1.   Come up with a name for your variable\n",
        "2.   Write an equals sign (=)\n",
        "3.   Put the **value** you want to store in your variable after the = sign\n",
        "\n"
      ]
    },
    {
      "cell_type": "markdown",
      "metadata": {
        "id": "6uiIeYc-EqEo"
      },
      "source": [
        "## Example: What I ate today"
      ]
    },
    {
      "cell_type": "markdown",
      "metadata": {
        "id": "ki6JxFG8wsKz"
      },
      "source": [
        "Let's see how we can use a variable to store information about what someone ate for breakfast and lunch today, and then print it.\n",
        "\n",
        "---\n",
        "\n"
      ]
    },
    {
      "cell_type": "code",
      "metadata": {
        "id": "feE_Pgk9tLgs"
      },
      "source": [
        "# A variable to store information\n",
        "meal = \"English muffin\"\n",
        "print(\"Breakfast: \" + meal)\n",
        "\n",
        "# Let's change the variable to something else\n",
        "meal = \"Pizza with ranch dip\"\n",
        "print(\"Lunch: \" + meal)\n",
        "\"this is a string\"\n",
        "\n",
        "\"45\"\n",
        "\n",
        "\"3.14159\""
      ],
      "execution_count": null,
      "outputs": []
    },
    {
      "cell_type": "markdown",
      "metadata": {
        "id": "204KeeW1wpQ-"
      },
      "source": [
        "Here, we made a variable called `meal`, and initially assigned it the value of `\"English muffin\"`. Later on, we reassigned the variable with a different value, `\"Pizza with ranch dip\"`.  Since we reassigned the variable, `\"English muffin\"` is completely replaced and we don't have access to that original value any more. If you wanted to keep the original value, you could consider defining a second variable, calling it something like `meal2`.\n",
        "\n"
      ]
    },
    {
      "cell_type": "markdown",
      "metadata": {
        "id": "MhBR2vFFwgBg"
      },
      "source": [
        "Do you also notice that `+` sign in the `print` statements? You can use it to chain piece of text together when you want to display more than one word or phrase. This is called **concatenation**."
      ]
    },
    {
      "cell_type": "markdown",
      "metadata": {
        "id": "FTGWSEgDzS67"
      },
      "source": [
        "# **Variable types**"
      ]
    },
    {
      "cell_type": "markdown",
      "metadata": {
        "id": "9GdFld6Tzat2"
      },
      "source": [
        "All of the code above has been used to record and display text information. In Python, text between quotation marks is called a **string**. Referring to examples from before, `\"English muffin\"` is a string, as is `\"I have 2 dogs.\"`\n",
        "\n",
        "However, we can store other pieces of information in variables aside from strings. For instance, we can store numbers in variables. There are two primary numeric variable types in Python: **integers** and **floats** (or floating-point numbers). Integers are whole numbers (e.g. 4), and floats are numbers with a decimal part (e.g. 8.26)."
      ]
    },
    {
      "cell_type": "markdown",
      "metadata": {
        "id": "eK52VvZr1VwS"
      },
      "source": [
        "Let's see an example of how to define two numeric variables and add them together."
      ]
    },
    {
      "cell_type": "code",
      "metadata": {
        "id": "QTwzSrG01UXt"
      },
      "source": [
        "# Define an integer\n",
        "our_integer = 5.\n",
        "\n",
        "# Define a float\n",
        "our_float = 3.65\n",
        "\n",
        "our_bool = True\n",
        "\n",
        "# Add them together, store the result in a variable, and print it out\n",
        "our_result = our_integer + our_float + our_bool\n",
        "print(our_result)\n",
        "\n",
        "print(type(our_integer), type(our_float), type(our_result), type(our_bool))"
      ],
      "execution_count": null,
      "outputs": []
    },
    {
      "cell_type": "markdown",
      "metadata": {
        "id": "aI-En2Qrdeym"
      },
      "source": [
        "Do you notice anything different about how these variables look? With strings, we need to use quotation marks to define them. But with numbers, we can leave out the quotes. That means that `2` and `\"2\"` are not the same thing: the first is an integer, while the second is a string.\n",
        "\n",
        "Notice that we can add numeric variables in Python using the `+` operator. So it behaves like traditional addition as well as the concatenation (putting strings together) that you saw earlier. The values of `our_integer` and `our_float` are being combined and stored in `our_result` in the above example.\n",
        "\n",
        "What happens if we try to mix these different types?"
      ]
    },
    {
      "cell_type": "code",
      "metadata": {
        "id": "tWBUm1HRddpa"
      },
      "source": [
        "int_num = 2\n",
        "string_num = \"2\"\n",
        "\n",
        "result = str(int_num) + string_num\n",
        "result"
      ],
      "execution_count": null,
      "outputs": []
    },
    {
      "cell_type": "markdown",
      "metadata": {
        "id": "x8OilqzXeKSL"
      },
      "source": [
        "How would we fix this? What if we want to use strings and integers together (for example, if we want to print out words with a number?)?\n",
        "\n",
        "We can do this by using `str()` which is able to convert a integer into a string! Check out the cell below (and fill in your correct age!).\n",
        "\n"
      ]
    },
    {
      "cell_type": "code",
      "metadata": {
        "id": "yKhRDrnSeVVf"
      },
      "source": [
        "my_age = 30 # fill this in with your age!\n",
        "\n",
        "print(\"I am \" + str(my_age) + \" years old!\")"
      ],
      "execution_count": null,
      "outputs": []
    },
    {
      "cell_type": "markdown",
      "metadata": {
        "id": "fbEDo3ki2Bm4"
      },
      "source": [
        "\n",
        "\n",
        "\n",
        "\n",
        "We have other mathematical operators available to us in Python too:\n",
        "\n",
        "*   `-` subtraction (e.g. `4 - 2` evaluates to `2`)\n",
        "*   `*` multiplication (e.g. `3.4 * 10` evaluates to `34`)\n",
        "*   `/` exact division (e.g. `5/2` evaluates to `2.5`)\n",
        "*  `//` integer division (leaving off the decimal part, e.g. `5//2` evaluates to `2`)\n",
        "\n",
        "\n",
        "\n"
      ]
    },
    {
      "cell_type": "code",
      "source": [
        "num  = 2\n",
        "\n",
        "if num % 2 == 0:\n",
        "  print(\"even num\")\n",
        "else:\n",
        "  print(\"odd num\")"
      ],
      "metadata": {
        "id": "ZZzVInXoIAuJ"
      },
      "execution_count": null,
      "outputs": []
    },
    {
      "cell_type": "markdown",
      "metadata": {
        "id": "QLDw0ZGXEsfZ"
      },
      "source": [
        "## Try it out: Judge for the Olympics\n",
        "\n",
        "Write an Olympic Judging program that outputs the average scores from 3 different judges. Write a program with three variables for each score, called `score_a`, `score_b` and `score_c`  respectively. Set the scores (out of 10) to integers of your choice, and print them one after the other. Then, calculate the average of the three scores, and print the result.\n",
        "\n",
        "Your output should appear like this:\n",
        "\n",
        "```\n",
        "Judge 1: 10\n",
        "Judge 2: 9\n",
        "Judge 3: 8\n",
        "Average Score: 9\n",
        "```\n",
        "\n",
        "This example combines several concepts from previous exercises and examples. If you're unsure about how to start, break down the problem into parts that are similar to the things we've just covered.\n",
        "\n",
        "*Hint: calculate the **total** first (and store this in a variable) before you calculate and print your average.*"
      ]
    },
    {
      "cell_type": "code",
      "metadata": {
        "id": "02VgY3iFs3zZ"
      },
      "source": [
        "# Write your Olympic Judging program here:\n",
        "judge1 = 10\n",
        "judge2 = 9\n",
        "judge3 = 8\n",
        "\n",
        "(judge1 + judge2 + judge3) / 3"
      ],
      "execution_count": null,
      "outputs": []
    },
    {
      "cell_type": "markdown",
      "metadata": {
        "id": "Z3fkjPLaqsHg"
      },
      "source": [
        "# **Functions**\n",
        "\n",
        "Watch [this](https://youtu.be/_vCWEAZLXXs) video in preparation for this topic **(to watch at home, not in class)**.\n",
        "\n",
        "A Python function is similar to how we think of functions in math. You've actually already made use of a function earlier — `print` is an example of a function. You can think of these as pre-defined formulas in Python that can be called for various uses. Now, you'll learn how to make your own functions.\n",
        "\n",
        "Let's say you're building a chatbot, Jarvis, which needs to greet the user every time it's summoned, like so:"
      ]
    },
    {
      "cell_type": "code",
      "metadata": {
        "id": "OHKWTDRRBZRA"
      },
      "source": [
        "print(\"Hi!\")\n",
        "print(\"Allow me to introduce myself. I'm Jarvis, and I can call and message people for you. I can also share a joke or two.\")\n",
        "print(\"What can I help you with?\")"
      ],
      "execution_count": null,
      "outputs": []
    },
    {
      "cell_type": "markdown",
      "metadata": {
        "id": "3XpSjoulDNzk"
      },
      "source": [
        "Every time a user summons Jarvis, we call these three lines of code. Even if Jarvis is summoned 3-4 times, that's a lot of lines of code required. Instead, we can assign these lines of code to a `function`. We'll call the function `greeting`, and define it in the following way.\n",
        "\n",
        "Every function you define contains the word `def`, the name of your function, a pair of parenthses, and a colon, followed by some code underneath. When we define a function, nothing actually happens in the console. Try this:"
      ]
    },
    {
      "cell_type": "code",
      "metadata": {
        "id": "fSI9u8E3FmkD"
      },
      "source": [
        "def greeting():\n",
        "  print(\"Hi!\")\n",
        "  print(\"Allow me to introduce myself. I'm Jarvis, and I can call and message people for you. I can also share a joke or two.\")\n",
        "  print(\"What can I help you with?\")"
      ],
      "execution_count": null,
      "outputs": []
    },
    {
      "cell_type": "markdown",
      "metadata": {
        "id": "_5SX8EKeGKYK"
      },
      "source": [
        "At this point, we have merely taught Jarvis how to print a greeting. Now we have to tell Jarvis to actually do it, and we do this by calling the function, like so:"
      ]
    },
    {
      "cell_type": "code",
      "metadata": {
        "id": "2UuaZo-qGVGd"
      },
      "source": [
        "greeting()"
      ],
      "execution_count": null,
      "outputs": []
    },
    {
      "cell_type": "markdown",
      "metadata": {
        "id": "3p_SMAeQfH8e"
      },
      "source": [
        "Each time we call it, the code in the function gets executed. This is part of why functions are valuable. They allow us to save some code for later, and then use and re-use it without having to type it out each time."
      ]
    },
    {
      "cell_type": "markdown",
      "metadata": {
        "id": "XQBUr90cHHVq"
      },
      "source": [
        "## **Variable Scope in Functions (optional)**\n",
        "\n",
        "For the purpose of exploring functions further, let's use a shorter greeting and add the user's name to it. Then we can declare a variable with the name, like we normally would."
      ]
    },
    {
      "cell_type": "markdown",
      "metadata": {
        "id": "Kc7Dixf6IlNq"
      },
      "source": [
        "But watch out, if you do this, the variable `name` is only available within the function. If you try to use `name` outside the function, it causes an error. Do you see an error when you run this program?"
      ]
    },
    {
      "cell_type": "code",
      "metadata": {
        "id": "tf07EEMBIeaf"
      },
      "source": [
        "def greeting():\n",
        "  name = \"Arya\"\n",
        "  print(\"Hi \" + name + \"!\")\n",
        "\n",
        "greeting()\n",
        "print(name)"
      ],
      "execution_count": null,
      "outputs": []
    },
    {
      "cell_type": "markdown",
      "metadata": {
        "id": "2qYfeoApJMxm"
      },
      "source": [
        "But here's where Python gets a little funky. If you declare the variable OUTSIDE a function, you can still access it INSIDE the function. Take a look at this:\n"
      ]
    },
    {
      "cell_type": "code",
      "metadata": {
        "id": "bC-BRSDBItU8"
      },
      "source": [
        "name = \"Arya\"\n",
        "\n",
        "def greeting():\n",
        "  print(\"Hi \" + name + \"!\")\n",
        "\n",
        "greeting()\n",
        "print(name)"
      ],
      "execution_count": null,
      "outputs": []
    },
    {
      "cell_type": "markdown",
      "metadata": {
        "id": "tfpyxxy4JgGV"
      },
      "source": [
        "Here's another place where Python gets REALLY funky. If a variable is declared outside a function, and you try to CHANGE it inside the function, you actually create ANOTHER variable of the same name! In this example, there are two variables called `name`. One of them lives inside `greeting`, and the other lives outside of it. Run this code and see what happens."
      ]
    },
    {
      "cell_type": "code",
      "metadata": {
        "id": "pHDPFzZPJY7O"
      },
      "source": [
        "name = \"Arya\"\n",
        "\n",
        "def greeting():\n",
        "\n",
        "  print(\"Hi \" + name + \"!\")\n",
        "\n",
        "\n",
        "greeting()  # This print statement will refer to the version of name inside greeting()\n",
        "print(name) # This print statement will refer to the version of name on the first line"
      ],
      "execution_count": null,
      "outputs": []
    },
    {
      "cell_type": "markdown",
      "metadata": {
        "id": "BITv9AWDL8Z_"
      },
      "source": [
        "## **Functions with Parameters**\n",
        "\n",
        "Watch [this](https://youtu.be/wHiMhywV8j0) video in preparation for this topic **(to watch at home, not in class)**.\n",
        "\n",
        "As it stands now, functions are pretty limited; they always do the same thing. The function `greeting` always greets Arya.\n",
        "\n",
        "We can make a function behave differently by re-assigning the variable `name` each time, but that would be annoying. Fortunately, there's a better way to do this, and it exists in the form of **parameters**, which are pieces of information you can give the function when you call them.\n",
        "\n",
        "A parameter is basically a variable name. You put the variable name in the function's parentheses, and you can then use the name in the function as though it were a variable you declared."
      ]
    },
    {
      "cell_type": "code",
      "metadata": {
        "id": "m7tWzdhkL_Xl"
      },
      "source": [
        "def greeting(name):\n",
        "  print(\"Hi \" + name + \"!\")"
      ],
      "execution_count": null,
      "outputs": []
    },
    {
      "cell_type": "markdown",
      "metadata": {
        "id": "FtFb-88eOwdK"
      },
      "source": [
        "But where does this variable get its value from?\n",
        "\n",
        "You actually give the variable a value when you call the function, like the following lines of code. Give it a whirl, what do you get?\n"
      ]
    },
    {
      "cell_type": "code",
      "metadata": {
        "id": "hmSm7QnhO8gb"
      },
      "source": [
        "greeting(\"Arya\")\n",
        "greeting(\"Alex\")\n",
        "greeting(\"Adi\")\n",
        "greeting()"
      ],
      "execution_count": null,
      "outputs": []
    },
    {
      "cell_type": "markdown",
      "metadata": {
        "id": "zzJ0rkydPyrJ"
      },
      "source": [
        "Functions can also have **multiple** parameters. Let's say we want to print the current temperature with the greeting. Then we provide the parameters in parentheses, separated by commas."
      ]
    },
    {
      "cell_type": "code",
      "metadata": {
        "id": "CjtVvXorPl8n"
      },
      "source": [
        "# Function definition includes two parameters for name and temp\n",
        "def greeting(name, temp):\n",
        "  print(\"Hi \" + name + \"!\")\n",
        "  print(\"It's \" + str(temp) + \" degrees celsius today.\")\n",
        "\n",
        "# While calling the function, we provide the values for BOTH parameters\n",
        "greeting(\"Arya\", 21)\n",
        "greeting(\"Alex\", 37)"
      ],
      "execution_count": null,
      "outputs": []
    },
    {
      "cell_type": "code",
      "source": [
        "def square_a_value(value):\n",
        "  return value**2\n",
        "\n",
        "output = square_a_value(8)"
      ],
      "metadata": {
        "id": "Ym0vvde8KhWA"
      },
      "execution_count": null,
      "outputs": []
    },
    {
      "cell_type": "markdown",
      "metadata": {
        "id": "3fcjs9xRUVqZ"
      },
      "source": [
        "## **Functions with Return Values**\n",
        "\n",
        "When you write a function, you have the option of making it return a value. Here's an example of a function that returns a `string variable` with an introduction.\n",
        "\n",
        "Run the program. Notice how the first statement doesn't print anything, but the second statement prints the string returned by the `introduction` function."
      ]
    },
    {
      "cell_type": "code",
      "metadata": {
        "id": "vUPmszQhW5ix"
      },
      "source": [
        "# Defining a function that returns an introduction string\n",
        "def introduction(your_name, other_name):\n",
        "  return \"Hey \" + other_name + \", my name is \" + your_name\n",
        "\n",
        "# Here, the variable is assigned to the value returned by the introduction function\n",
        "my_intro = introduction(\"Inspirit Student\", \"Samuel\") # put your name in here!\n",
        "print(my_intro) # this prints your intro!"
      ],
      "execution_count": null,
      "outputs": []
    },
    {
      "cell_type": "markdown",
      "metadata": {
        "id": "rBCUCuQUma7X"
      },
      "source": [
        "## Try it out: Turn up the temperature\n",
        "\n",
        "You're probably used to reading the temperature in Celsius units. Unfortunately, your soon-to-be friends from Stanford don't understand Celsius; they are only used to Fahrenheit. To make any discussion about weather easier with them, write a program that helps you convert the temperature between Celsius and Fahrenheit:\n",
        "\n",
        "1.   Write a function called `c_to_f` that takes an input `c_temp`, a temperature in Celsius, and converts it to `f_temp`, that temperature in Fahrenheit. It should then return `f_temp`. The equation you should use is:\n",
        "\n",
        ">  $F = (1.8 * C) + 32$\n",
        "\n",
        "\n",
        "2.   Let’s test your function with a value of 0 Celsius. Print out your output.\n",
        "\n"
      ]
    },
    {
      "cell_type": "code",
      "metadata": {
        "id": "DycsOkuspAXe"
      },
      "source": [
        "# Define your function here\n",
        "def c_to_f(c_temp):\n",
        "  \"\"\"\n",
        "  converts a celsius temp to a fahrenheit temp.\n",
        "  \"\"\"\n",
        "  return (1.8 * c_temp) + 32\n",
        "# Call your function and print output here\n",
        "\n",
        "c_to_f(32)"
      ],
      "execution_count": null,
      "outputs": []
    },
    {
      "cell_type": "markdown",
      "metadata": {
        "id": "38Jx1-wlshQY"
      },
      "source": [
        "# **Conditionals**\n",
        "\n",
        "Watch [this](https://youtu.be/jkM2dfuHeu4) video in preparation for this exercise **(to watch at home, not in class)**."
      ]
    },
    {
      "cell_type": "markdown",
      "metadata": {
        "id": "N0iZS9dBC8k2"
      },
      "source": [
        "\n",
        "\n",
        "In all the programs above, we have a fixed order in which things will happen. For instance, with our judge scores above, we know that we will be taking in input from 3 judges, calculating the average and printing it out.\n",
        "\n",
        "However, we might want to specify some alternative ways in which a program could run. In plain English, this means something like:\n",
        "\n",
        "\"if something is the case, execute the program in one particular way; otherwise do it another way\"\n",
        "\n",
        "We can achieve this in Python by using **Boolean** variables. A Boolean is another type of variable that can take on just two values: `True` and `False`."
      ]
    },
    {
      "cell_type": "markdown",
      "metadata": {
        "id": "vFdwiOaeskrs"
      },
      "source": [
        "## Example: Self-Driving Car at a Traffic Light"
      ]
    },
    {
      "cell_type": "markdown",
      "metadata": {
        "id": "M0s5cBa9GD0d"
      },
      "source": [
        "We're sitting in a nice Tesla that is approaching a traffic light. The Tesla is looking out to see whether the green light is illuminated."
      ]
    },
    {
      "cell_type": "code",
      "metadata": {
        "id": "plfnn9dYuTxH"
      },
      "source": [
        "from pickle import TRUE\n",
        "# We define a new Boolean variable called green_light\n",
        "# In this case, the green light is illuminated, so we set the variable to True\n",
        "green_light = True\n",
        "\n",
        "if green_light == True:\n",
        "  print(\"Good to go!\")\n",
        "else:\n",
        "  print(\"Don't go yet...\")"
      ],
      "execution_count": null,
      "outputs": []
    },
    {
      "cell_type": "markdown",
      "metadata": {
        "id": "N-4vV-kGHAji"
      },
      "source": [
        "Nice, our Tesla can sail through the green light with no problems. But now we're approaching another traffic light that is not green:"
      ]
    },
    {
      "cell_type": "code",
      "metadata": {
        "id": "I31ZNrO0HJ5s"
      },
      "source": [
        "# In this case, we're approaching a red light, so we set the variable to False\n",
        "green_light = False\n",
        "\n",
        "if not green_light:\n",
        "  print(\"Good to go!\")\n",
        "else:\n",
        "  print(\"Don't go yet...\")"
      ],
      "execution_count": null,
      "outputs": []
    },
    {
      "cell_type": "markdown",
      "metadata": {
        "id": "CqQMCBj2HV1A"
      },
      "source": [
        "Notice above that each `print()` statement above is indented and preceded by one of two lines:\n",
        "\n",
        "```\n",
        "if green_light:\n",
        "```\n",
        "or\n",
        "```\n",
        "else:\n",
        "...\n",
        "```\n",
        "\n",
        "When you write `if`, Python checks to see whether the variable or expression after it evaluates to `True`. If it does, then the indented code after it will execute, and Python will skip the indented code after the `else`. If it evaluates to `False`, then the indented code after the `if` statement is skipped, and the indented code after `else` will execute. The examples above show both of these in action.\n",
        "\n",
        "Note that when using `if` and `else` statements, you need to end each of these lines with a colon (`:` ) and indent the subsequent code with a tab."
      ]
    },
    {
      "cell_type": "markdown",
      "metadata": {
        "id": "ItKsZPUikNSn"
      },
      "source": [
        "## **Comparison operators: `==, !=, >, <, >=, <=`**"
      ]
    },
    {
      "cell_type": "markdown",
      "metadata": {
        "id": "0VEEKk8CkoYU"
      },
      "source": [
        "So far, we've been setting variables directly to Boolean values. Sometimes, however, we want to compare other values or expressions to each other. To do this, we can use **comparison operators**.\n",
        "\n",
        "There are six main types of comparison operator:\n",
        "\n",
        "\n",
        "1.   `==` checks to see if two values/expressions are equal\n",
        "2.   `!=` checks to see if two values/expressions are not equal\n",
        "3.   `>` checks to see if the left-hand value/expression is greater than the right-hand value/expression\n",
        "4.   `<` checks to see if the left-hand value/expression is less than the right-hand value/expression\n",
        "5. `>=` checks to see if the left-hand value/expression is greater than or equal to the right-hand value/expression\n",
        "6. `<=` checks to see if the left-hand value/expression is less than or equal to the right-hand value/expression\n",
        "\n",
        "If the comparison condition is satisfied, the whole expression will evaluate to `True`. If it's not, the whole expression evaluates to `False`.\n",
        "\n",
        "Let's take a look at some simple examples of this. Run the following cell and examine the outputs:"
      ]
    },
    {
      "cell_type": "code",
      "metadata": {
        "id": "pFQfeN1inQlB"
      },
      "source": [
        "# Define a variable called test\n",
        "test = 2\n",
        "\n",
        "# Let's see if test is equal to 2, and print out the result\n",
        "result = test == 2\n",
        "print(result)\n",
        "\n",
        "# Let's see if test is greater than or equal to 4, and print out the result.\n",
        "# This time, we're going to do it all in one line\n",
        "print(test >= 4)\n",
        "\n",
        "# Finally, let's see if the result of 3 - test is not equal to the result of test/2.\n",
        "print(3 - test != test/2)\n"
      ],
      "execution_count": null,
      "outputs": []
    },
    {
      "cell_type": "markdown",
      "metadata": {
        "id": "SiduqIyXoLYM"
      },
      "source": [
        "Comparison operators also work on strings, as you can see below if you run the cell. This program combines the comparison operators with an `if` statement to get some different outputs. Will anything be printed out in this case?"
      ]
    },
    {
      "cell_type": "code",
      "metadata": {
        "id": "cBLughVGoWQl"
      },
      "source": [
        "# Define a test string\n",
        "test_string = \"pink\"\n",
        "\n",
        "# Will anything be printed here?\n",
        "if test_string == \"pink\":\n",
        "  print(\"The test string is pink\")\n",
        "elif test_string == \"blue\":\n",
        "  print(\"it's blue\")\n",
        "else:\n",
        "  print(\"It's neither pink nor blue\")"
      ],
      "execution_count": null,
      "outputs": []
    },
    {
      "cell_type": "markdown",
      "metadata": {
        "id": "YJxyjt9Lv5C4"
      },
      "source": [
        "Here, since we didn't specify an alternative output to print out, nothing gets printed. It's fine not to have an `else` statement if you don't want it!"
      ]
    },
    {
      "cell_type": "markdown",
      "metadata": {
        "id": "AEL7qcHGFGkX"
      },
      "source": [
        "## Exercise: Temperature Converter 2\n",
        "Let's revisit the temperature converter we worked on earlier. What if we want to make a temperature converter that's able to convert from Fahrenheit to Celsius *and* from Celsius to Fahrenheit?\n",
        "\n",
        "We added a new parameter to the function: temperature units. Change your code from above so that the function gives the temperature in Fahrenheit when it's inputted in Celsius, and gives the temperature in Celsius when it's inputted in Fahrenheit.\n",
        "\n",
        "Celsius to Fahrenheit formula:\n",
        ">  $F = (1.8 * C) + 32$\n",
        "\n",
        "Fahrenheit to Celsius formula:\n",
        ">  $C = (F - 32)/1.8$\n",
        "\n",
        "\n"
      ]
    },
    {
      "cell_type": "code",
      "metadata": {
        "id": "EcB0kd-3FGLo"
      },
      "source": [
        "def temperature_converter(temp, units):\n",
        "  '''\n",
        "    Inputs:\n",
        "      temp: temperature, as a float\n",
        "      units: either \"fahrenheit\" or \"celsius\"\n",
        "    Outputs:\n",
        "      temperature in celsius or fahrenheit (opposite of units variable), as a float\n",
        "  '''\n",
        "  if units == \"fahrenheit\":\n",
        "    return (temp - 32) / 1.8\n",
        "  elif units == \"celsius\":\n",
        "    return (1.8 * temp) + 32\n",
        "  else:\n",
        "    print(\"not a valid temp unit\")"
      ],
      "execution_count": null,
      "outputs": []
    },
    {
      "cell_type": "code",
      "metadata": {
        "id": "vhFGGAheGm3c"
      },
      "source": [
        "#@title Run this to check if your function is right!\n",
        "\n",
        "def assertEquals(var1, var2):\n",
        "    if var1 == var2:\n",
        "        return \"passed\"\n",
        "    else:\n",
        "        return \"failed\"\n",
        "\n",
        "print(\"Test case 1: \" + assertEquals(temperature_converter(32.0, 'fahrenheit'), 0.0))\n",
        "print(\"Test case 2: \" + assertEquals(temperature_converter(212.0, 'fahrenheit'), 100.0))\n",
        "print(\"Test case 3: \" + assertEquals(round(temperature_converter(80.0, 'fahrenheit'), 1), 26.7))\n",
        "print(\"Test case 4: \" + assertEquals(temperature_converter(0.0, 'celsius'), 32.0))\n",
        "print(\"Test case 5: \" + assertEquals(temperature_converter(100.0, 'celsius'), 212.0))\n",
        "print(\"Test case 6: \" + assertEquals(temperature_converter(10.0, 'celsius'), 50.0))\n",
        "print(\"Test case 6: \" + assertEquals(temperature_converter(10.0, 'celsius'), 50.0))\n"
      ],
      "execution_count": null,
      "outputs": []
    },
    {
      "cell_type": "markdown",
      "metadata": {
        "id": "VsKKs9L1qa-U"
      },
      "source": [
        "## Controlling the traffic lights"
      ]
    },
    {
      "cell_type": "markdown",
      "metadata": {
        "id": "rLLB9mKwrMIQ"
      },
      "source": [
        "Remember the self-driving car example from before? It was pretty good, but we want to make it better. There, we only specified whether or not a light was green, but there are actually two alternatives for when a light is not green: it could be red or yellow.\n",
        "\n",
        "This time, we're going to pass in what colour they want the traffic light to be to a function. Then we'll tell the Tesla what it needs to do depending on the colour of the light that was entered."
      ]
    },
    {
      "cell_type": "code",
      "metadata": {
        "id": "SQ2uiLJkspI8"
      },
      "source": [
        "def traffic_light(light_color):\n",
        "  print(\"The traffic light is\", light_color + \".\")\n",
        "\n",
        "  # Don't worry about this line; it's just formatting the string so that there's\n",
        "  # no extra whitespace at the ends and it's all in lower case\n",
        "  light = light_color.lower().strip()\n",
        "\n",
        "  # Tell the car what it needs to do based on the colour of the light\n",
        "  if light == \"red\":\n",
        "    print(\"Don't go yet... \")\n",
        "  elif light == \"yellow\":\n",
        "    print(\"Slow down... \")\n",
        "  elif light == \"green\":\n",
        "    print(\"Good to go!\")\n",
        "  else:\n",
        "    print(\"Huh?\")"
      ],
      "execution_count": null,
      "outputs": []
    },
    {
      "cell_type": "markdown",
      "metadata": {
        "id": "prlS0BYJQjf6"
      },
      "source": [
        "Run the cell below to try using the function! Try changing what's passed in and run it again. Can you predict what will be printed out?"
      ]
    },
    {
      "cell_type": "code",
      "metadata": {
        "id": "n8mfp1hxQq3-"
      },
      "source": [
        "traffic_light(\"blue\")"
      ],
      "execution_count": null,
      "outputs": []
    },
    {
      "cell_type": "markdown",
      "metadata": {
        "id": "lkOmgMeLv3Hd"
      },
      "source": [
        "This example is a little more involved than before. There are two main things to notice here:\n",
        "\n",
        "\n",
        "1.   The above program uses the word `elif`. This is useful if you have multiple conditions you want to check. `if`/`else` on their own is fine if there's just one condition you want to check, but here we're seeing if the light is red, yellow, or green.\n",
        "2.   The final `else` statement might seem unnecessary, but we've included it in case the user enters something other than red, yellow or green. If a Tesla saw a purple light, it might be confused!\n",
        "\n"
      ]
    },
    {
      "cell_type": "markdown",
      "metadata": {
        "id": "BlANNkKcu1lL"
      },
      "source": [
        "## **Logical operators: `and`, `or`, `not`**"
      ]
    },
    {
      "cell_type": "markdown",
      "metadata": {
        "id": "UjyGTyglxG1e"
      },
      "source": [
        "In the above examples, we were only checking one expression at a time. But sometimes we want to check more than one at once, or negate some expression that we've already checked. There are three keywords in Python for this:\n",
        "\n",
        "\n",
        "1. `and` checks if both the left-hand and right-hand expressions are `True`. If they are, the whole expression evaluates to `True`; otherwise it evaluates to `False`.\n",
        "\n",
        "2. `or` checks if either the left-hand or right-hand expressions are `True` (or both of them). If at least one of these expressions evaluates to `True`, then the whole expression evaluates to `True`; otherwise it evaluates to `False`.\n",
        "\n",
        "3. `not` will reverse the value of whatever expression we are checking. So `not True` is the same as `False`, and `not False` is the same as `True`.\n",
        "\n",
        "Run the cell below to see the results of each of the expressions within."
      ]
    },
    {
      "cell_type": "code",
      "metadata": {
        "id": "WBh9TwOQ6xSG"
      },
      "source": [
        "# Define some Booleans\n",
        "bool_a = 2 * 3 != 6 # this evaluates to True\n",
        "bool_b = 9 - 4 != 5 # this evaluates to False\n",
        "\n",
        "# Expression 1\n",
        "print(bool_a and bool_b)\n",
        "\n",
        "# Expression 2\n",
        "print(bool_a or bool_b)\n",
        "\n",
        "# Expression 3\n",
        "print(not bool_b)"
      ],
      "execution_count": null,
      "outputs": []
    },
    {
      "cell_type": "markdown",
      "metadata": {
        "id": "ki2HF4V8JFsT"
      },
      "source": [
        "## (Optional) Exercise: Prisoner's Dilemma\n",
        "In this exercise, you'll be coding the functionality for the prisoner's dilemma. If you haven't heard of this before, it's a scenario where two prisoners are brought into separate rooms and get to choose if they want to betray their friend (the other prisoner) or remain silent. Here are the results for every outcome:\n",
        "* **Both prisoners betray:** each serve 4 years\n",
        "* **Both prisoners stay silent:** each serve 2 years\n",
        "* **Prisoner 1 betrays, prisoner 2 stays silent:** prisoner 1 serves 0 years, prisoner 2 serves 3 years\n",
        "* **Prisoner 1 stays silent, prisoner 2 betrays:** prisoner 1 serves 3 years, prisoner 2 serves 0 years\n",
        "\n",
        "In the cell below, code this scenario. Your inputs will be booleans (`True` if that person betrayed, `False` otherwise), and you will be outputting the number of years each prisoner gets. Here are two examples below:\n",
        "\n",
        "\n",
        "```\n",
        "Input:\n",
        "  prisoner1_betrays: True\n",
        "  prisoner2_betrays: True\n",
        "Output:\n",
        "  (4, 4)\n",
        "\n",
        "Input:\n",
        "  prisoner1_betrays: False\n",
        "  prisoner2_betrays: True\n",
        "Output:\n",
        "  (3, 0)\n",
        "```\n",
        "\n"
      ]
    },
    {
      "cell_type": "code",
      "metadata": {
        "id": "qSPo-IIpJa1M"
      },
      "source": [
        "def prisoner_dilemma(prisoner1_betrays, prisoner2_betrays):\n",
        "  '''\n",
        "  Input:\n",
        "    prisoner1_betrays: boolean, True if prisoner 1 betrays, False otherwise\n",
        "    prisoner2_betrays: boolean, True if prisoner 2 betrays, False otherwise\n",
        "  Output:\n",
        "    a tuple with (number of years for P1, number of years for P2)\n",
        "  '''\n",
        "  return (None, None)"
      ],
      "execution_count": null,
      "outputs": []
    },
    {
      "cell_type": "code",
      "metadata": {
        "id": "jeEenKleMq3A",
        "cellView": "form"
      },
      "source": [
        "#@title Test Cases\n",
        "\n",
        "def assertEquals(var1, var2):\n",
        "    if var1 == var2:\n",
        "        return \"passed\"\n",
        "    else:\n",
        "        return \"failed\"\n",
        "\n",
        "print(\"Test case 1: \" + assertEquals(prisoner_dilemma(True, True), (4,4)))\n",
        "print(\"Test case 2: \" + assertEquals(prisoner_dilemma(True, False), (0,3)))\n",
        "print(\"Test case 3: \" + assertEquals(prisoner_dilemma(False, True), (3,0)))\n",
        "print(\"Test case 4: \" + assertEquals(prisoner_dilemma(False, False), (2,2)))"
      ],
      "execution_count": null,
      "outputs": []
    },
    {
      "cell_type": "markdown",
      "metadata": {
        "id": "-Kg-TBkI0mS-"
      },
      "source": [
        "# **Loops**\n",
        "\n",
        "To motivate the need for while loops, let's re-visit the if-condition. Recall that an `if` statement allows you to do something UNLESS a condition is `False`. If the condition is `False`, nothing is executed. What if we want to do something UNTIL a condition becomes `False`?  This is exactly what loops are for: to execute a particular task repeatedly until some condition no longer holds `True`.\n",
        "\n",
        "**[Not to play in class!]** Watch [this](https://youtu.be/ckltZHCqNnA) video in preparation for this topic."
      ]
    },
    {
      "cell_type": "markdown",
      "metadata": {
        "id": "V4oGzvQS05Gu"
      },
      "source": [
        "## While loops: A personalized Self-Driving Car\n",
        "\n",
        "Let's explore this with an example. Let’s go back to our self-driving Tesla, but this time, let's personalize it. Suppose that our Tesla (let's call it *Jarvis*), only starts when the user summons it with a command, say \"*Jarvis, energize!*\". If we don’t enter that command, the car doesn’t start. We know this can be programmed with a simple `if` condition, like in the cell below.\n",
        "\n",
        "*Note: this cell uses a function we haven't talked about -- `input`. This function allows us to get typed inputs from the user (you!). Run the cell below to see how it works.*"
      ]
    },
    {
      "cell_type": "code",
      "metadata": {
        "id": "7pWsULq03k9d"
      },
      "source": [
        "# Define the predetermined summon in a variable\n",
        "summon = \"Jarvis, energize!\"\n",
        "\n",
        "# Ask the user for the command\n",
        "command = input(\"What’s your command? \")\n",
        "\n",
        "# Tell the car what to do based on the correctness of the command\n",
        "if command == summon:\n",
        "  print(\"Your wish is my command!\")\n",
        "else:\n",
        "  print(\"Sorry, I don’t understand.\")"
      ],
      "execution_count": null,
      "outputs": []
    },
    {
      "cell_type": "markdown",
      "metadata": {
        "id": "Xk9njZY44Num"
      },
      "source": [
        "… Now, instead of just giving the user a single try, what if we want to let the user keep guessing until they guess correctly?\n",
        "\n",
        "We can do that with something called a `while` loop. Take a look at this program, and give it a whirl:\n",
        "\n"
      ]
    },
    {
      "cell_type": "code",
      "metadata": {
        "id": "OI5jHY3q4p6M"
      },
      "source": [
        "# Define the predetermined summon in a variable\n",
        "summon = \"Jarvis, energize!\"\n",
        "\n",
        "# Ask the user for the command\n",
        "command = input(\"What’s your command? \")\n",
        "num_tries = 0\n",
        "# While the command isn't the summon we're looking for... then execute the indented block\n",
        "while num_tries != 4:\n",
        "  print(\"Sorry, I don't understand.\")\n",
        "  command = input(\"What's your command? \")\n",
        "  num_tries += 1\n",
        "\n",
        "# This line of code will only execute when the loop is finished, i.e., when command is the predetermined summon\n",
        "# Note how this line is NOT indented like the statements inside the while-loop\n",
        "print(\"Your wish is my command!\")"
      ],
      "execution_count": null,
      "outputs": []
    },
    {
      "cell_type": "markdown",
      "metadata": {
        "id": "_mr0HZ516N73"
      },
      "source": [
        "In simple English, the `while` loop can be translated as: \"As long as `command` is not the same as `summon`, ask user for input.\"\n",
        "\n",
        "Here's what a `while` loop looks like:\n",
        "```\n",
        "while condition\n",
        "  ... do something ...\n",
        " ```\n",
        "It looks a lot like an `if` statement. The only difference is the word \"while\" in place of the word \"if\". The condition still has to be something that evaluates to a boolean. The code under the `while` loop is the body. If the condition is `True`, it executes.\n",
        "\n",
        "EVERY TIME it executes, the condition is checked again. Unless the condition has become `False`, the body runs again."
      ]
    },
    {
      "cell_type": "markdown",
      "metadata": {
        "id": "IhJOJffnVjs2"
      },
      "source": [
        "## Try it out: Blackjack\n",
        "\n",
        "In the game of blackjack, your goal is to get as close as possible to 21 points without going over (each card is assigned a different point value, with aces being 1, number cards being their number, and face cards being 10). To start, the player is dealt two cards. After those cards are dealt, the player can choose to `hit` or `stand`: hitting would give them a new card, and standing means their current hand is final. If the player goes over 21, they `bust`, meaning they automatically lose.\n",
        "\n",
        "If the player stays under 21 and has a hand with a higher score than the dealer, they win! Otherwise, they lose. Check out the code below that implements the general blackjack game.\n",
        "\n"
      ]
    },
    {
      "cell_type": "code",
      "metadata": {
        "id": "lVqJ6cRfWvNC",
        "cellView": "form"
      },
      "source": [
        "#@title Run this to set up blackjack!\n",
        "import random\n",
        "def hit():\n",
        "  return random.choice([1,2,3,4,5,6,7,8,9,10,10,10])\n",
        "\n",
        "def dealer_turn():\n",
        "  hand = 0\n",
        "  hand += hit()\n",
        "  hand += hit()\n",
        "  hand += hit()\n",
        "  return hand"
      ],
      "execution_count": null,
      "outputs": []
    },
    {
      "cell_type": "code",
      "metadata": {
        "id": "YWIKCg8cW4k9"
      },
      "source": [
        "def blackjack():\n",
        "  # setting up initial cards\n",
        "  dealer_hand = dealer_turn()\n",
        "  hand = 0 # start out with 0 points, then get dealt 2 cards at the beginning\n",
        "  hand += hit()\n",
        "  hand += hit()\n",
        "\n",
        "  # using your strategy! if you make a new strategy, change it here to use your better one\n",
        "  hand = bad_strat(hand)\n",
        "\n",
        "  print(\"Dealer Hand:\", dealer_hand)\n",
        "  print(\"Your Hand:\", hand)\n",
        "\n",
        "  # checking if you busted, won, or lost!\n",
        "  if hand>21:\n",
        "    print(\"You busted!\")\n",
        "  elif hand > dealer_hand:\n",
        "    print(\"You win!\")\n",
        "  else:\n",
        "    print(\"You lose!\")"
      ],
      "execution_count": null,
      "outputs": []
    },
    {
      "cell_type": "markdown",
      "metadata": {
        "id": "yGU9xMYSYe4F"
      },
      "source": [
        "We're going to code a blackjack strategy in the function below. In this strategy, as long as our `current_hand` is below 21 points, we're going to keep hitting. To hit in your code, you can use the function `hit()`, which will **return** the point value of your new card. *Make sure you add on that value to your `current_hand` value!*\n",
        "\n",
        "**Complete the function below to code this strategy!**\n",
        "\n"
      ]
    },
    {
      "cell_type": "code",
      "metadata": {
        "id": "bGjLyr_aUrV3"
      },
      "source": [
        "def bad_strat(current_hand):\n",
        "  '''\n",
        "    input: the point value of your current hand\n",
        "    output: your final hand value after implementing the above strategy\n",
        "  '''\n",
        "  pass # delete the pass and fill in your code!"
      ],
      "execution_count": null,
      "outputs": []
    },
    {
      "cell_type": "markdown",
      "metadata": {
        "id": "urp5Ej58Xybr"
      },
      "source": [
        "Now, run the cell below to try out your strategy in action. How did you do?"
      ]
    },
    {
      "cell_type": "code",
      "metadata": {
        "id": "TEQv3w-YX5gF"
      },
      "source": [
        "blackjack()"
      ],
      "execution_count": null,
      "outputs": []
    },
    {
      "cell_type": "markdown",
      "metadata": {
        "id": "g7xk5QOKbZEo"
      },
      "source": [
        "### (Optional) Better Strategy\n",
        "That strategy wasn't super great! Try filling in the cell below with a better strategy that you decide!"
      ]
    },
    {
      "cell_type": "code",
      "metadata": {
        "id": "CdgJpMh6bkJz"
      },
      "source": [
        "def your_better_strat(current_hand):\n",
        "  pass # delete the pass and fill in your code!"
      ],
      "execution_count": null,
      "outputs": []
    },
    {
      "cell_type": "markdown",
      "metadata": {
        "id": "srLwyhk9Djkh"
      },
      "source": [
        "## **For loops**\n",
        "\n",
        "A while loop works well when we don't know in advance how many times we will have to do something. But what if we know exactly how many times you'll have to do something?\n",
        "\n",
        "We can use a `for` loop! Here's an example of what it looks like.\n",
        "\n",
        "**[Not to play in class!]** Watch [this](https://youtu.be/jBVv-5UuFQc) video in preparation for this topic."
      ]
    },
    {
      "cell_type": "code",
      "metadata": {
        "id": "WHx66S3UHNMO"
      },
      "source": [
        "my_list = [0, \"a\", 25, True, 4]\n",
        "\n",
        "\n",
        "for i in my_list:\n",
        "  # Do this 4 times\n",
        "  print(i)"
      ],
      "execution_count": null,
      "outputs": []
    },
    {
      "cell_type": "markdown",
      "metadata": {
        "id": "2aYA1T5hHZZV"
      },
      "source": [
        "A `for` loop consists of three main things:\n",
        "*   You say \"`for i in range`\"\n",
        "*  An integer in parentheses, which is the number of times you want to do something\n",
        "*  The indented code, called body, which will execute repeatedly"
      ]
    },
    {
      "cell_type": "markdown",
      "metadata": {
        "id": "iwMKMB78nsvp"
      },
      "source": [
        "## Example: A more secure Self-Driving Car\n",
        "\n",
        "Our friend at Tesla, Elon Musk, just told us it isn’t safe to let the user have unlimited go’s at guessing the command. He recommends we give the user only five tries to guess the command. Let’s see how we might use our handy-dandy `for` loop here:\n"
      ]
    },
    {
      "cell_type": "code",
      "metadata": {
        "id": "2TNFWR9gn9on"
      },
      "source": [
        "# Define the predetermined summon in a variable\n",
        "summon = \"Jarvis, energize!\"\n",
        "\n",
        "# Try the command five times\n",
        "for i in range(5):\n",
        "  print('You have', str(5-i), \"more attempt(s).\")\n",
        "  command = input(\"What’s your command? \")\n",
        "  if command == summon:\n",
        "     print(\"Your wish is my command!\")\n",
        "     break\n",
        "  else:\n",
        "     print(\"Sorry, I don’t understand!\")"
      ],
      "execution_count": null,
      "outputs": []
    },
    {
      "cell_type": "markdown",
      "metadata": {
        "id": "iYXMPBbmo-s8"
      },
      "source": [
        "Notice a new `break` statement in the `if` condition? When the condition is `True`, the break statement skips the entire loop even before it finishes all its iterations. In the above program, it ensures that the user is not asked to give the command again if they've gotten it right before the first five tries."
      ]
    },
    {
      "cell_type": "markdown",
      "metadata": {
        "id": "87_LZVcq1TeU"
      },
      "source": [
        "# **Lists**\n",
        "\n",
        "**[Not to play in class!]** Watch [this](https://youtu.be/da8cmMaZ_8E) video in preparation for this topic.\n",
        "\n",
        "Another common data type is lists.  You can think of lists as storing multiple variables, or a collection of variables, in one place.  It's also important to note that the variables are in a particular order and are each assigned an index in the list."
      ]
    },
    {
      "cell_type": "code",
      "metadata": {
        "id": "higKQZtE2DAY"
      },
      "source": [
        "# Let's create a grocery list for when we go to the store\n",
        "groceries = []\n",
        "groceries.append('apples')\n",
        "groceries.append('milk')\n",
        "groceries.append('bread')\n",
        "groceries.append('cheese')\n",
        "\n",
        "for items in groceries:\n",
        "  print('You have ' + items + ' in your bag!')\n"
      ],
      "execution_count": null,
      "outputs": []
    },
    {
      "cell_type": "code",
      "source": [
        "len(groceries)"
      ],
      "metadata": {
        "id": "iMBP0vrTQCG6"
      },
      "execution_count": null,
      "outputs": []
    },
    {
      "cell_type": "markdown",
      "metadata": {
        "id": "nvtDYtczy55L"
      },
      "source": [
        "As you can see above, you can also walk through each item in a list using a different type of `for` loop. This list looks like `for list_item in list` instead of `for i in range` like before.\n",
        "\n",
        "There are also many useful list functions. Below are a couple you can take a look at."
      ]
    },
    {
      "cell_type": "code",
      "source": [
        "max??"
      ],
      "metadata": {
        "id": "B48eYvo_QkAG"
      },
      "execution_count": null,
      "outputs": []
    },
    {
      "cell_type": "code",
      "source": [],
      "metadata": {
        "id": "3Aa9DEQeQyHx"
      },
      "execution_count": null,
      "outputs": []
    },
    {
      "cell_type": "code",
      "metadata": {
        "id": "IXYBpbQjzAXo"
      },
      "source": [
        "example_list = [1,2,3,4,5,8,2,6]\n",
        "\n",
        "print(max(example_list)) # prints out the largest number in the list\n",
        "\n",
        "print(min(example_list)) # prints out the smallest number in the list\n",
        "\n",
        "print(sum(example_list)) # prints out all the numbers summed together\n",
        "\n",
        "print(len(example_list)) # prints out the length of the list"
      ],
      "execution_count": null,
      "outputs": []
    },
    {
      "cell_type": "markdown",
      "metadata": {
        "id": "6sRqp6-ty_ZA"
      },
      "source": [
        "## Try it out: Best Foot Forward\n",
        "You’re applying to Stanford and you realize you want to submit only the best score from all your attempts at the SAT. The scores from all the attempts is stored in a list, called `scores`. Write a program that traverses the list and then prints the highest score from the list.\n",
        "\n",
        "**Note**: Do not use the built-in function `max` in your program!"
      ]
    },
    {
      "cell_type": "code",
      "metadata": {
        "id": "YdtnOAaPy-x7"
      },
      "source": [
        "# Complete this program to find and print the highest score from the list\n",
        "sat_scores = [1450, 1550, 1375, 1250]\n",
        "max_score = 0\n",
        "for score in sat_scores:\n",
        "  if score > max_score:\n",
        "    max_score = score\n",
        "print(max_score)"
      ],
      "execution_count": null,
      "outputs": []
    },
    {
      "cell_type": "markdown",
      "metadata": {
        "id": "erdiMaacuYLr"
      },
      "source": [
        "# CONGRATULATIONS!\n",
        "Well done finishing this notebook! If you have any remaining questions, be sure to ask your instructor over the course of the program!"
      ]
    }
  ]
}